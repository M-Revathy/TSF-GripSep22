{
 "cells": [
  {
   "cell_type": "markdown",
   "id": "3a662bba",
   "metadata": {},
   "source": [
    "# The Sparks Foundation - Graduate Rotational Internship Program\n",
    "## Data Science & Business Analytics Tasks\n",
    "### Task1: Prediction Using Supervised ML\n",
    "### Author: Revathy M"
   ]
  },
  {
   "cell_type": "markdown",
   "id": "4e093bc7",
   "metadata": {},
   "source": [
    "## #Importing Important Libraries\n",
    "\n",
    "- $numpy$ stands for Numerical Python. It is python library used for working with arrays.\n",
    "- $pandas$ is a software library written for the Python programming language for data manipulation and analysis\n",
    "- $matplotlib$ can be used for creating plots and charts."
   ]
  },
  {
   "cell_type": "code",
   "execution_count": 1,
   "id": "48847192",
   "metadata": {},
   "outputs": [],
   "source": [
    "import numpy as np\n",
    "import pandas as pd\n",
    "import matplotlib.pyplot as plt"
   ]
  },
  {
   "cell_type": "markdown",
   "id": "fbd88181",
   "metadata": {},
   "source": [
    "## Load the Dataset"
   ]
  },
  {
   "cell_type": "code",
   "execution_count": 2,
   "id": "909446f2",
   "metadata": {
    "scrolled": true
   },
   "outputs": [
    {
     "name": "stdout",
     "output_type": "stream",
     "text": [
      "Dimensions of the Dataset: (25, 2)\n"
     ]
    },
    {
     "data": {
      "text/html": [
       "<div>\n",
       "<style scoped>\n",
       "    .dataframe tbody tr th:only-of-type {\n",
       "        vertical-align: middle;\n",
       "    }\n",
       "\n",
       "    .dataframe tbody tr th {\n",
       "        vertical-align: top;\n",
       "    }\n",
       "\n",
       "    .dataframe thead th {\n",
       "        text-align: right;\n",
       "    }\n",
       "</style>\n",
       "<table border=\"1\" class=\"dataframe\">\n",
       "  <thead>\n",
       "    <tr style=\"text-align: right;\">\n",
       "      <th></th>\n",
       "      <th>Hours</th>\n",
       "      <th>Scores</th>\n",
       "    </tr>\n",
       "  </thead>\n",
       "  <tbody>\n",
       "    <tr>\n",
       "      <th>0</th>\n",
       "      <td>2.5</td>\n",
       "      <td>21</td>\n",
       "    </tr>\n",
       "    <tr>\n",
       "      <th>1</th>\n",
       "      <td>5.1</td>\n",
       "      <td>47</td>\n",
       "    </tr>\n",
       "    <tr>\n",
       "      <th>2</th>\n",
       "      <td>3.2</td>\n",
       "      <td>27</td>\n",
       "    </tr>\n",
       "    <tr>\n",
       "      <th>3</th>\n",
       "      <td>8.5</td>\n",
       "      <td>75</td>\n",
       "    </tr>\n",
       "    <tr>\n",
       "      <th>4</th>\n",
       "      <td>3.5</td>\n",
       "      <td>30</td>\n",
       "    </tr>\n",
       "  </tbody>\n",
       "</table>\n",
       "</div>"
      ],
      "text/plain": [
       "   Hours  Scores\n",
       "0    2.5      21\n",
       "1    5.1      47\n",
       "2    3.2      27\n",
       "3    8.5      75\n",
       "4    3.5      30"
      ]
     },
     "execution_count": 2,
     "metadata": {},
     "output_type": "execute_result"
    }
   ],
   "source": [
    "df = pd.read_excel(\"Task1.xlsx\")\n",
    "print(\"Dimensions of the Dataset:\",df.shape)\n",
    "df.head()"
   ]
  },
  {
   "cell_type": "markdown",
   "id": "920a13cd",
   "metadata": {},
   "source": [
    "## Plotting the distribution of scores"
   ]
  },
  {
   "cell_type": "code",
   "execution_count": 3,
   "id": "22bd835c",
   "metadata": {},
   "outputs": [
    {
     "data": {
      "image/png": "[encoded data removed]",
      "text/plain": [
       "<Figure size 576x288 with 1 Axes>"
      ]
     },
     "metadata": {
      "needs_background": "light"
     },
     "output_type": "display_data"
    }
   ],
   "source": [
    "df.plot(x='Hours',y='Scores', figsize=(8,4), style='*',color=\"Red\", title='Hours Vs Scores',xlabel='Hours',ylabel=\"Scores\")\n",
    "plt.show()"
   ]
  },
  {
   "cell_type": "markdown",
   "id": "152211c3",
   "metadata": {},
   "source": [
    "**The above image \"Hours Vs Scores\" reveals that there is a positive correlation between the number of hours studied and percentage of score.**"
   ]
  },
  {
   "cell_type": "markdown",
   "id": "ffbce9f4",
   "metadata": {},
   "source": [
    "## Preparing the Data"
   ]
  },
  {
   "cell_type": "code",
   "execution_count": 4,
   "id": "0aab74e7",
   "metadata": {},
   "outputs": [],
   "source": [
    "X = df.iloc[:,0:-1].values   #independent variable\n",
    "y = df.iloc[:,1].values      #dependent variable"
   ]
  },
  {
   "cell_type": "markdown",
   "id": "5929075b",
   "metadata": {},
   "source": [
    "## Spliting the dataset into Training & Testing data\n",
    "\n",
    "- $Train Dataset$ Used to fit the machine learning model.\n",
    "- $Test Dataset$ Used to evaluate the fit machine learning model."
   ]
  },
  {
   "cell_type": "code",
   "execution_count": 5,
   "id": "29cc2ce4",
   "metadata": {},
   "outputs": [],
   "source": [
    "from sklearn.model_selection import train_test_split\n",
    "X_train, X_test, y_train, y_test = train_test_split(X,y,test_size=0.2,random_state=0)"
   ]
  },
  {
   "cell_type": "markdown",
   "id": "a8c72f54",
   "metadata": {},
   "source": [
    "## Predicting using Simple Linear Regression\n",
    "- $Simple Linear Regression$ is an approach for predicting a response(\"Score\") using a single feature(\"Hours Studied\")."
   ]
  },
  {
   "cell_type": "code",
   "execution_count": 6,
   "id": "a504ced8",
   "metadata": {
    "scrolled": true
   },
   "outputs": [
    {
     "data": {
      "text/plain": [
       "LinearRegression()"
      ]
     },
     "execution_count": 6,
     "metadata": {},
     "output_type": "execute_result"
    }
   ],
   "source": [
    "from sklearn.linear_model import LinearRegression  \n",
    "lr = LinearRegression()\n",
    "lr.fit(X_train,y_train)"
   ]
  },
  {
   "cell_type": "code",
   "execution_count": 7,
   "id": "361bd0ed",
   "metadata": {},
   "outputs": [
    {
     "name": "stdout",
     "output_type": "stream",
     "text": [
      "Coefficient: [9.91065648]\n",
      "Intercept: 2.018160041434662\n"
     ]
    }
   ],
   "source": [
    "print(\"Coefficient:\", lr.coef_)\n",
    "print(\"Intercept:\", lr.intercept_)"
   ]
  },
  {
   "cell_type": "code",
   "execution_count": 8,
   "id": "c2f79f7c",
   "metadata": {},
   "outputs": [
    {
     "data": {
      "image/png": "[encoded data removed]",
      "text/plain": [
       "<Figure size 432x288 with 1 Axes>"
      ]
     },
     "metadata": {
      "needs_background": "light"
     },
     "output_type": "display_data"
    }
   ],
   "source": [
    "line = lr.coef_*X+lr.intercept_\n",
    "\n",
    "plt.scatter(X,y, color= \"green\") #original data\n",
    "plt.title(\"Regression Chart\",fontsize=14)\n",
    "plt.xlabel(\"Hours\", fontsize=12)\n",
    "plt.ylabel(\"Score\", fontsize=12)\n",
    "plt.plot(X,line, color = \"red\") #original score prediction\n",
    "plt.show()"
   ]
  },
  {
   "cell_type": "markdown",
   "id": "b8780758",
   "metadata": {},
   "source": [
    "## Making Predictions"
   ]
  },
  {
   "cell_type": "code",
   "execution_count": 9,
   "id": "947ec16c",
   "metadata": {},
   "outputs": [
    {
     "data": {
      "text/plain": [
       "array([16.88414476, 33.73226078, 75.357018  , 26.79480124, 60.49103328])"
      ]
     },
     "execution_count": 9,
     "metadata": {},
     "output_type": "execute_result"
    }
   ],
   "source": [
    "y_pred = lr.predict(X_test)     #predicting the scores\n",
    "y_pred"
   ]
  },
  {
   "cell_type": "code",
   "execution_count": 10,
   "id": "4041a620",
   "metadata": {
    "scrolled": false
   },
   "outputs": [
    {
     "data": {
      "text/html": [
       "<div>\n",
       "<style scoped>\n",
       "    .dataframe tbody tr th:only-of-type {\n",
       "        vertical-align: middle;\n",
       "    }\n",
       "\n",
       "    .dataframe tbody tr th {\n",
       "        vertical-align: top;\n",
       "    }\n",
       "\n",
       "    .dataframe thead th {\n",
       "        text-align: right;\n",
       "    }\n",
       "</style>\n",
       "<table border=\"1\" class=\"dataframe\">\n",
       "  <thead>\n",
       "    <tr style=\"text-align: right;\">\n",
       "      <th></th>\n",
       "      <th>Actual</th>\n",
       "      <th>Predicted</th>\n",
       "    </tr>\n",
       "  </thead>\n",
       "  <tbody>\n",
       "    <tr>\n",
       "      <th>0</th>\n",
       "      <td>20</td>\n",
       "      <td>16.884145</td>\n",
       "    </tr>\n",
       "    <tr>\n",
       "      <th>1</th>\n",
       "      <td>27</td>\n",
       "      <td>33.732261</td>\n",
       "    </tr>\n",
       "    <tr>\n",
       "      <th>2</th>\n",
       "      <td>69</td>\n",
       "      <td>75.357018</td>\n",
       "    </tr>\n",
       "    <tr>\n",
       "      <th>3</th>\n",
       "      <td>30</td>\n",
       "      <td>26.794801</td>\n",
       "    </tr>\n",
       "    <tr>\n",
       "      <th>4</th>\n",
       "      <td>62</td>\n",
       "      <td>60.491033</td>\n",
       "    </tr>\n",
       "  </tbody>\n",
       "</table>\n",
       "</div>"
      ],
      "text/plain": [
       "   Actual  Predicted\n",
       "0      20  16.884145\n",
       "1      27  33.732261\n",
       "2      69  75.357018\n",
       "3      30  26.794801\n",
       "4      62  60.491033"
      ]
     },
     "execution_count": 10,
     "metadata": {},
     "output_type": "execute_result"
    }
   ],
   "source": [
    "#Comparing Actual and Predicted Scores\n",
    "df_compare = pd.DataFrame({'Actual': y_test, 'Predicted': y_pred})  \n",
    "df_compare"
   ]
  },
  {
   "cell_type": "markdown",
   "id": "bbabbad4",
   "metadata": {},
   "source": [
    "## Accuracy of the model\n",
    "- $R-Squared value$ :Otherwise known as Coefficient of Determination. It shows how well the data fit the regression model "
   ]
  },
  {
   "cell_type": "code",
   "execution_count": 11,
   "id": "977b614e",
   "metadata": {},
   "outputs": [
    {
     "data": {
      "text/plain": [
       "94.54906892105353"
      ]
     },
     "execution_count": 11,
     "metadata": {},
     "output_type": "execute_result"
    }
   ],
   "source": [
    "#Goodness of fit test\n",
    "\n",
    "from sklearn import metrics\n",
    "metrics.r2_score(y_test,y_pred)*100"
   ]
  },
  {
   "cell_type": "markdown",
   "id": "c0b50537",
   "metadata": {},
   "source": [
    "**94.5% of the variance in the dependent variable(Score) being studied is explained by the variance of the independent variable(Hours studied)**"
   ]
  },
  {
   "cell_type": "markdown",
   "id": "22580aab",
   "metadata": {},
   "source": [
    "## Error Prediction\n",
    "- $Mean Absolute Error$: The magnitude of difference between the prediction of an observation and the true value of that observation."
   ]
  },
  {
   "cell_type": "code",
   "execution_count": 12,
   "id": "1cfd17ed",
   "metadata": {},
   "outputs": [
    {
     "name": "stdout",
     "output_type": "stream",
     "text": [
      "Mean Absolute Error: 4.183859899002982\n"
     ]
    }
   ],
   "source": [
    "mae = metrics.mean_absolute_error(y_test,y_pred)\n",
    "print(\"Mean Absolute Error:\",mae)"
   ]
  },
  {
   "cell_type": "markdown",
   "id": "b6f164f4",
   "metadata": {},
   "source": [
    "## Predicting Score"
   ]
  },
  {
   "cell_type": "code",
   "execution_count": 21,
   "id": "e489303e",
   "metadata": {},
   "outputs": [
    {
     "name": "stdout",
     "output_type": "stream",
     "text": [
      "If a student studies for 9.25hrs/day, the predicted score is: 93.69\n"
     ]
    }
   ],
   "source": [
    "#Predicting the score of a student, if a student studies for 9.25hrs/day:\n",
    "hours = 9.25\n",
    "pr_data = lr.predict([[hours]])\n",
    "print(\"If a student studies for 9.25hrs/day, the predicted score is: {}\".format(round(pr_data[0],2)))"
   ]
  },
  {
   "cell_type": "markdown",
   "id": "b00a366f",
   "metadata": {},
   "source": [
    "## Thank You!!!\n",
    "**Happy Learning**"
   ]
  }
 ],
 "metadata": {
  "kernelspec": {
   "display_name": "Python 3 (ipykernel)",
   "language": "python",
   "name": "python3"
  },
  "language_info": {
   "codemirror_mode": {
    "name": "ipython",
    "version": 3
   },
   "file_extension": ".py",
   "mimetype": "text/x-python",
   "name": "python",
   "nbconvert_exporter": "python",
   "pygments_lexer": "ipython3",
   "version": "3.9.7"
  }
 },
 "nbformat": 4,
 "nbformat_minor": 5
}
